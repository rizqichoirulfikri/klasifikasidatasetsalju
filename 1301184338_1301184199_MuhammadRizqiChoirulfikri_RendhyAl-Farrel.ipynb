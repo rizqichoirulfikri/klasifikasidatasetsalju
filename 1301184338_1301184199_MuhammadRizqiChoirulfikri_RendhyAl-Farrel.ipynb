{
  "nbformat": 4,
  "nbformat_minor": 0,
  "metadata": {
    "colab": {
      "name": "TubesMalin2_Rizqi_Rendhy.ipynb",
      "provenance": [],
      "collapsed_sections": []
    },
    "kernelspec": {
      "name": "python3",
      "display_name": "Python 3"
    },
    "language_info": {
      "name": "python"
    }
  },
  "cells": [
    {
      "cell_type": "markdown",
      "metadata": {
        "id": "cTMUt_ZcQ3EB"
      },
      "source": [
        "# Library"
      ]
    },
    {
      "cell_type": "code",
      "metadata": {
        "id": "nDr7DeONc5ds"
      },
      "source": [
        "import pandas as pd\n",
        "import matplotlib.pyplot as plt\n",
        "import numpy as np\n",
        "import math \n",
        "import seaborn as sns\n",
        "from sklearn.tree import DecisionTreeClassifier\n",
        "from sklearn.preprocessing import StandardScaler\n",
        "from sklearn.preprocessing import MinMaxScaler\n",
        "from sklearn.preprocessing import RobustScaler\n",
        "from sklearn.svm import SVC\n",
        "from sklearn.model_selection import train_test_split\n",
        "from sklearn.impute import SimpleImputer\n",
        "from sklearn.model_selection import GridSearchCV\n",
        "from sklearn import tree\n",
        "from sklearn.model_selection import cross_val_score\n",
        "from sklearn.neighbors import KNeighborsClassifier\n",
        "from sklearn import metrics\n",
        "from sklearn.naive_bayes import GaussianNB\n",
        "from sklearn.ensemble import RandomForestClassifier\n",
        "from sklearn.discriminant_analysis import LinearDiscriminantAnalysis as LDA\n",
        "from sklearn.feature_selection import chi2\n",
        "from sklearn.feature_selection import SelectKBest\n",
        "from sklearn.feature_selection import mutual_info_classif\n",
        "import time"
      ],
      "execution_count": 1,
      "outputs": []
    },
    {
      "cell_type": "markdown",
      "metadata": {
        "id": "qc2US9FbQ6tu"
      },
      "source": [
        "# Import CSV"
      ]
    },
    {
      "cell_type": "code",
      "metadata": {
        "colab": {
          "base_uri": "https://localhost:8080/"
        },
        "id": "Btjp7La2a6gS",
        "outputId": "86393b74-393b-4708-b05b-87cce67e2fdb"
      },
      "source": [
        "!wget 'https://drive.google.com/uc?export=download&id=12d0twzuV6oTh7BHhStlgrAib4c5VzjWa' -O salju_train.csv\n",
        "!wget 'https://drive.google.com/uc?export=download&id=1TrLcjR_6pPsZ5XBLNYxOcryiWItV7WO9' -O salju_test.csv"
      ],
      "execution_count": 2,
      "outputs": [
        {
          "output_type": "stream",
          "text": [
            "--2021-05-28 11:46:53--  https://drive.google.com/uc?export=download&id=12d0twzuV6oTh7BHhStlgrAib4c5VzjWa\n",
            "Resolving drive.google.com (drive.google.com)... 142.250.1.138, 142.250.1.102, 142.250.1.139, ...\n",
            "Connecting to drive.google.com (drive.google.com)|142.250.1.138|:443... connected.\n",
            "HTTP request sent, awaiting response... 302 Moved Temporarily\n",
            "Location: https://doc-0c-14-docs.googleusercontent.com/docs/securesc/ha0ro937gcuc7l7deffksulhg5h7mbp1/ljco4od15pibu7s97qs1fqesb0ao166v/1622202375000/00150260977202157621/*/12d0twzuV6oTh7BHhStlgrAib4c5VzjWa?e=download [following]\n",
            "Warning: wildcards not supported in HTTP.\n",
            "--2021-05-28 11:46:54--  https://doc-0c-14-docs.googleusercontent.com/docs/securesc/ha0ro937gcuc7l7deffksulhg5h7mbp1/ljco4od15pibu7s97qs1fqesb0ao166v/1622202375000/00150260977202157621/*/12d0twzuV6oTh7BHhStlgrAib4c5VzjWa?e=download\n",
            "Resolving doc-0c-14-docs.googleusercontent.com (doc-0c-14-docs.googleusercontent.com)... 173.194.192.132, 2607:f8b0:4001:c0e::84\n",
            "Connecting to doc-0c-14-docs.googleusercontent.com (doc-0c-14-docs.googleusercontent.com)|173.194.192.132|:443... connected.\n",
            "HTTP request sent, awaiting response... 200 OK\n",
            "Length: unspecified [text/csv]\n",
            "Saving to: ‘salju_train.csv’\n",
            "\n",
            "salju_train.csv         [ <=>                ]  10.13M  --.-KB/s    in 0.1s    \n",
            "\n",
            "2021-05-28 11:46:54 (81.0 MB/s) - ‘salju_train.csv’ saved [10620655]\n",
            "\n",
            "--2021-05-28 11:46:54--  https://drive.google.com/uc?export=download&id=1TrLcjR_6pPsZ5XBLNYxOcryiWItV7WO9\n",
            "Resolving drive.google.com (drive.google.com)... 142.250.1.138, 142.250.1.102, 142.250.1.100, ...\n",
            "Connecting to drive.google.com (drive.google.com)|142.250.1.138|:443... connected.\n",
            "HTTP request sent, awaiting response... 302 Moved Temporarily\n",
            "Location: https://doc-14-14-docs.googleusercontent.com/docs/securesc/ha0ro937gcuc7l7deffksulhg5h7mbp1/8m82dlht2ioluaec7cqgjt6bupnecbgo/1622202375000/00150260977202157621/*/1TrLcjR_6pPsZ5XBLNYxOcryiWItV7WO9?e=download [following]\n",
            "Warning: wildcards not supported in HTTP.\n",
            "--2021-05-28 11:46:55--  https://doc-14-14-docs.googleusercontent.com/docs/securesc/ha0ro937gcuc7l7deffksulhg5h7mbp1/8m82dlht2ioluaec7cqgjt6bupnecbgo/1622202375000/00150260977202157621/*/1TrLcjR_6pPsZ5XBLNYxOcryiWItV7WO9?e=download\n",
            "Resolving doc-14-14-docs.googleusercontent.com (doc-14-14-docs.googleusercontent.com)... 173.194.192.132, 2607:f8b0:4001:c0e::84\n",
            "Connecting to doc-14-14-docs.googleusercontent.com (doc-14-14-docs.googleusercontent.com)|173.194.192.132|:443... connected.\n",
            "HTTP request sent, awaiting response... 200 OK\n",
            "Length: 1587571 (1.5M) [text/csv]\n",
            "Saving to: ‘salju_test.csv’\n",
            "\n",
            "salju_test.csv      100%[===================>]   1.51M  --.-KB/s    in 0.02s   \n",
            "\n",
            "2021-05-28 11:46:56 (83.4 MB/s) - ‘salju_test.csv’ saved [1587571/1587571]\n",
            "\n"
          ],
          "name": "stdout"
        }
      ]
    },
    {
      "cell_type": "code",
      "metadata": {
        "id": "8-3YPpGHDnO-"
      },
      "source": [
        "df_train = pd.read_csv('salju_train.csv')\n",
        "df_test = pd.read_csv('salju_test.csv')"
      ],
      "execution_count": 3,
      "outputs": []
    },
    {
      "cell_type": "markdown",
      "metadata": {
        "id": "8KgD7_Y5QAhQ"
      },
      "source": [
        "# Exploratory Data"
      ]
    },
    {
      "cell_type": "code",
      "metadata": {
        "id": "jQ12eSPxdYNj",
        "colab": {
          "base_uri": "https://localhost:8080/",
          "height": 437
        },
        "outputId": "7c337d05-5ef1-49db-b2a6-0448a0ae8009"
      },
      "source": [
        "df_train"
      ],
      "execution_count": 4,
      "outputs": [
        {
          "output_type": "execute_result",
          "data": {
            "text/html": [
              "<div>\n",
              "<style scoped>\n",
              "    .dataframe tbody tr th:only-of-type {\n",
              "        vertical-align: middle;\n",
              "    }\n",
              "\n",
              "    .dataframe tbody tr th {\n",
              "        vertical-align: top;\n",
              "    }\n",
              "\n",
              "    .dataframe thead th {\n",
              "        text-align: right;\n",
              "    }\n",
              "</style>\n",
              "<table border=\"1\" class=\"dataframe\">\n",
              "  <thead>\n",
              "    <tr style=\"text-align: right;\">\n",
              "      <th></th>\n",
              "      <th>id</th>\n",
              "      <th>Tanggal</th>\n",
              "      <th>KodeLokasi</th>\n",
              "      <th>SuhuMin</th>\n",
              "      <th>SuhuMax</th>\n",
              "      <th>Hujan</th>\n",
              "      <th>Penguapan</th>\n",
              "      <th>SinarMatahari</th>\n",
              "      <th>ArahAnginTerkencang</th>\n",
              "      <th>KecepatanAnginTerkencang</th>\n",
              "      <th>ArahAngin9am</th>\n",
              "      <th>ArahAngin3pm</th>\n",
              "      <th>KecepatanAngin9am</th>\n",
              "      <th>KecepatanAngin3pm</th>\n",
              "      <th>Kelembaban9am</th>\n",
              "      <th>Kelembaban3pm</th>\n",
              "      <th>Tekanan9am</th>\n",
              "      <th>Tekanan3pm</th>\n",
              "      <th>Awan9am</th>\n",
              "      <th>Awan3pm</th>\n",
              "      <th>Suhu9am</th>\n",
              "      <th>Suhu3pm</th>\n",
              "      <th>BersaljuHariIni</th>\n",
              "      <th>BersaljuBesok</th>\n",
              "    </tr>\n",
              "  </thead>\n",
              "  <tbody>\n",
              "    <tr>\n",
              "      <th>0</th>\n",
              "      <td>1</td>\n",
              "      <td>01/06/2014</td>\n",
              "      <td>C4</td>\n",
              "      <td>10.4</td>\n",
              "      <td>15.5</td>\n",
              "      <td>4.8</td>\n",
              "      <td>NaN</td>\n",
              "      <td>NaN</td>\n",
              "      <td>WSW</td>\n",
              "      <td>24.0</td>\n",
              "      <td>NaN</td>\n",
              "      <td>WSW</td>\n",
              "      <td>0.0</td>\n",
              "      <td>13.0</td>\n",
              "      <td>78.0</td>\n",
              "      <td>76.0</td>\n",
              "      <td>1020.1</td>\n",
              "      <td>1018.5</td>\n",
              "      <td>NaN</td>\n",
              "      <td>NaN</td>\n",
              "      <td>13.1</td>\n",
              "      <td>15.0</td>\n",
              "      <td>Ya</td>\n",
              "      <td>Tidak</td>\n",
              "    </tr>\n",
              "    <tr>\n",
              "      <th>1</th>\n",
              "      <td>2</td>\n",
              "      <td>15/07/2014</td>\n",
              "      <td>C10</td>\n",
              "      <td>9.0</td>\n",
              "      <td>17.0</td>\n",
              "      <td>8.0</td>\n",
              "      <td>2.6</td>\n",
              "      <td>7.4</td>\n",
              "      <td>NaN</td>\n",
              "      <td>NaN</td>\n",
              "      <td>SW</td>\n",
              "      <td>WNW</td>\n",
              "      <td>13.0</td>\n",
              "      <td>20.0</td>\n",
              "      <td>80.0</td>\n",
              "      <td>61.0</td>\n",
              "      <td>1015.2</td>\n",
              "      <td>1014.6</td>\n",
              "      <td>7.0</td>\n",
              "      <td>5.0</td>\n",
              "      <td>11.9</td>\n",
              "      <td>15.5</td>\n",
              "      <td>Ya</td>\n",
              "      <td>Ya</td>\n",
              "    </tr>\n",
              "    <tr>\n",
              "      <th>2</th>\n",
              "      <td>3</td>\n",
              "      <td>16/02/2011</td>\n",
              "      <td>C46</td>\n",
              "      <td>18.2</td>\n",
              "      <td>32.0</td>\n",
              "      <td>0.0</td>\n",
              "      <td>NaN</td>\n",
              "      <td>NaN</td>\n",
              "      <td>ESE</td>\n",
              "      <td>44.0</td>\n",
              "      <td>SE</td>\n",
              "      <td>SE</td>\n",
              "      <td>15.0</td>\n",
              "      <td>26.0</td>\n",
              "      <td>62.0</td>\n",
              "      <td>42.0</td>\n",
              "      <td>NaN</td>\n",
              "      <td>NaN</td>\n",
              "      <td>NaN</td>\n",
              "      <td>NaN</td>\n",
              "      <td>23.8</td>\n",
              "      <td>29.6</td>\n",
              "      <td>Tidak</td>\n",
              "      <td>Tidak</td>\n",
              "    </tr>\n",
              "    <tr>\n",
              "      <th>3</th>\n",
              "      <td>4</td>\n",
              "      <td>08/08/2012</td>\n",
              "      <td>C36</td>\n",
              "      <td>7.3</td>\n",
              "      <td>24.5</td>\n",
              "      <td>0.0</td>\n",
              "      <td>8.4</td>\n",
              "      <td>10.4</td>\n",
              "      <td>SSW</td>\n",
              "      <td>54.0</td>\n",
              "      <td>N</td>\n",
              "      <td>SW</td>\n",
              "      <td>13.0</td>\n",
              "      <td>19.0</td>\n",
              "      <td>25.0</td>\n",
              "      <td>17.0</td>\n",
              "      <td>1019.2</td>\n",
              "      <td>1016.9</td>\n",
              "      <td>1.0</td>\n",
              "      <td>7.0</td>\n",
              "      <td>15.3</td>\n",
              "      <td>23.2</td>\n",
              "      <td>Tidak</td>\n",
              "      <td>Tidak</td>\n",
              "    </tr>\n",
              "    <tr>\n",
              "      <th>4</th>\n",
              "      <td>5</td>\n",
              "      <td>29/10/2016</td>\n",
              "      <td>C7</td>\n",
              "      <td>5.9</td>\n",
              "      <td>20.3</td>\n",
              "      <td>0.0</td>\n",
              "      <td>3.6</td>\n",
              "      <td>12.6</td>\n",
              "      <td>N</td>\n",
              "      <td>37.0</td>\n",
              "      <td>NNW</td>\n",
              "      <td>ESE</td>\n",
              "      <td>22.0</td>\n",
              "      <td>19.0</td>\n",
              "      <td>55.0</td>\n",
              "      <td>48.0</td>\n",
              "      <td>1019.7</td>\n",
              "      <td>1014.7</td>\n",
              "      <td>2.0</td>\n",
              "      <td>6.0</td>\n",
              "      <td>12.4</td>\n",
              "      <td>18.1</td>\n",
              "      <td>Tidak</td>\n",
              "      <td>Tidak</td>\n",
              "    </tr>\n",
              "    <tr>\n",
              "      <th>...</th>\n",
              "      <td>...</td>\n",
              "      <td>...</td>\n",
              "      <td>...</td>\n",
              "      <td>...</td>\n",
              "      <td>...</td>\n",
              "      <td>...</td>\n",
              "      <td>...</td>\n",
              "      <td>...</td>\n",
              "      <td>...</td>\n",
              "      <td>...</td>\n",
              "      <td>...</td>\n",
              "      <td>...</td>\n",
              "      <td>...</td>\n",
              "      <td>...</td>\n",
              "      <td>...</td>\n",
              "      <td>...</td>\n",
              "      <td>...</td>\n",
              "      <td>...</td>\n",
              "      <td>...</td>\n",
              "      <td>...</td>\n",
              "      <td>...</td>\n",
              "      <td>...</td>\n",
              "      <td>...</td>\n",
              "      <td>...</td>\n",
              "    </tr>\n",
              "    <tr>\n",
              "      <th>109090</th>\n",
              "      <td>109091</td>\n",
              "      <td>31/01/2009</td>\n",
              "      <td>C38</td>\n",
              "      <td>20.1</td>\n",
              "      <td>23.7</td>\n",
              "      <td>0.0</td>\n",
              "      <td>7.2</td>\n",
              "      <td>8.9</td>\n",
              "      <td>ESE</td>\n",
              "      <td>43.0</td>\n",
              "      <td>SE</td>\n",
              "      <td>ESE</td>\n",
              "      <td>24.0</td>\n",
              "      <td>26.0</td>\n",
              "      <td>74.0</td>\n",
              "      <td>70.0</td>\n",
              "      <td>1019.3</td>\n",
              "      <td>1017.6</td>\n",
              "      <td>4.0</td>\n",
              "      <td>6.0</td>\n",
              "      <td>22.0</td>\n",
              "      <td>22.1</td>\n",
              "      <td>Tidak</td>\n",
              "      <td>Ya</td>\n",
              "    </tr>\n",
              "    <tr>\n",
              "      <th>109091</th>\n",
              "      <td>109092</td>\n",
              "      <td>03/11/2010</td>\n",
              "      <td>C16</td>\n",
              "      <td>15.7</td>\n",
              "      <td>25.2</td>\n",
              "      <td>0.0</td>\n",
              "      <td>NaN</td>\n",
              "      <td>NaN</td>\n",
              "      <td>SSE</td>\n",
              "      <td>37.0</td>\n",
              "      <td>SSE</td>\n",
              "      <td>E</td>\n",
              "      <td>28.0</td>\n",
              "      <td>19.0</td>\n",
              "      <td>52.0</td>\n",
              "      <td>52.0</td>\n",
              "      <td>1018.4</td>\n",
              "      <td>1016.2</td>\n",
              "      <td>NaN</td>\n",
              "      <td>NaN</td>\n",
              "      <td>23.8</td>\n",
              "      <td>24.4</td>\n",
              "      <td>Tidak</td>\n",
              "      <td>Ya</td>\n",
              "    </tr>\n",
              "    <tr>\n",
              "      <th>109092</th>\n",
              "      <td>109093</td>\n",
              "      <td>11/11/2010</td>\n",
              "      <td>C17</td>\n",
              "      <td>7.5</td>\n",
              "      <td>20.4</td>\n",
              "      <td>1.6</td>\n",
              "      <td>NaN</td>\n",
              "      <td>NaN</td>\n",
              "      <td>NW</td>\n",
              "      <td>33.0</td>\n",
              "      <td>N</td>\n",
              "      <td>NW</td>\n",
              "      <td>4.0</td>\n",
              "      <td>13.0</td>\n",
              "      <td>92.0</td>\n",
              "      <td>51.0</td>\n",
              "      <td>1014.5</td>\n",
              "      <td>1010.6</td>\n",
              "      <td>NaN</td>\n",
              "      <td>NaN</td>\n",
              "      <td>12.6</td>\n",
              "      <td>19.8</td>\n",
              "      <td>Ya</td>\n",
              "      <td>Tidak</td>\n",
              "    </tr>\n",
              "    <tr>\n",
              "      <th>109093</th>\n",
              "      <td>109094</td>\n",
              "      <td>16/04/2012</td>\n",
              "      <td>C11</td>\n",
              "      <td>10.8</td>\n",
              "      <td>29.8</td>\n",
              "      <td>0.0</td>\n",
              "      <td>7.8</td>\n",
              "      <td>11.2</td>\n",
              "      <td>E</td>\n",
              "      <td>48.0</td>\n",
              "      <td>ESE</td>\n",
              "      <td>SE</td>\n",
              "      <td>13.0</td>\n",
              "      <td>26.0</td>\n",
              "      <td>35.0</td>\n",
              "      <td>18.0</td>\n",
              "      <td>1020.0</td>\n",
              "      <td>1015.8</td>\n",
              "      <td>0.0</td>\n",
              "      <td>1.0</td>\n",
              "      <td>21.7</td>\n",
              "      <td>29.2</td>\n",
              "      <td>Tidak</td>\n",
              "      <td>Tidak</td>\n",
              "    </tr>\n",
              "    <tr>\n",
              "      <th>109094</th>\n",
              "      <td>109095</td>\n",
              "      <td>09/10/2011</td>\n",
              "      <td>C16</td>\n",
              "      <td>12.3</td>\n",
              "      <td>27.4</td>\n",
              "      <td>9.0</td>\n",
              "      <td>NaN</td>\n",
              "      <td>NaN</td>\n",
              "      <td>WNW</td>\n",
              "      <td>35.0</td>\n",
              "      <td>NNE</td>\n",
              "      <td>NE</td>\n",
              "      <td>11.0</td>\n",
              "      <td>15.0</td>\n",
              "      <td>71.0</td>\n",
              "      <td>76.0</td>\n",
              "      <td>1010.4</td>\n",
              "      <td>1005.4</td>\n",
              "      <td>NaN</td>\n",
              "      <td>NaN</td>\n",
              "      <td>20.4</td>\n",
              "      <td>23.3</td>\n",
              "      <td>Ya</td>\n",
              "      <td>Tidak</td>\n",
              "    </tr>\n",
              "  </tbody>\n",
              "</table>\n",
              "<p>109095 rows × 24 columns</p>\n",
              "</div>"
            ],
            "text/plain": [
              "            id     Tanggal KodeLokasi  ...  Suhu3pm  BersaljuHariIni  BersaljuBesok\n",
              "0            1  01/06/2014         C4  ...     15.0               Ya          Tidak\n",
              "1            2  15/07/2014        C10  ...     15.5               Ya             Ya\n",
              "2            3  16/02/2011        C46  ...     29.6            Tidak          Tidak\n",
              "3            4  08/08/2012        C36  ...     23.2            Tidak          Tidak\n",
              "4            5  29/10/2016         C7  ...     18.1            Tidak          Tidak\n",
              "...        ...         ...        ...  ...      ...              ...            ...\n",
              "109090  109091  31/01/2009        C38  ...     22.1            Tidak             Ya\n",
              "109091  109092  03/11/2010        C16  ...     24.4            Tidak             Ya\n",
              "109092  109093  11/11/2010        C17  ...     19.8               Ya          Tidak\n",
              "109093  109094  16/04/2012        C11  ...     29.2            Tidak          Tidak\n",
              "109094  109095  09/10/2011        C16  ...     23.3               Ya          Tidak\n",
              "\n",
              "[109095 rows x 24 columns]"
            ]
          },
          "metadata": {
            "tags": []
          },
          "execution_count": 4
        }
      ]
    },
    {
      "cell_type": "code",
      "metadata": {
        "colab": {
          "base_uri": "https://localhost:8080/",
          "height": 437
        },
        "id": "R_4MJfjHiYmM",
        "outputId": "388be7d1-118c-4b03-c85e-855007141042"
      },
      "source": [
        "df_test"
      ],
      "execution_count": 5,
      "outputs": [
        {
          "output_type": "execute_result",
          "data": {
            "text/html": [
              "<div>\n",
              "<style scoped>\n",
              "    .dataframe tbody tr th:only-of-type {\n",
              "        vertical-align: middle;\n",
              "    }\n",
              "\n",
              "    .dataframe tbody tr th {\n",
              "        vertical-align: top;\n",
              "    }\n",
              "\n",
              "    .dataframe thead th {\n",
              "        text-align: right;\n",
              "    }\n",
              "</style>\n",
              "<table border=\"1\" class=\"dataframe\">\n",
              "  <thead>\n",
              "    <tr style=\"text-align: right;\">\n",
              "      <th></th>\n",
              "      <th>Tanggal</th>\n",
              "      <th>KodeLokasi</th>\n",
              "      <th>SuhuMin</th>\n",
              "      <th>SuhuMax</th>\n",
              "      <th>Hujan</th>\n",
              "      <th>Penguapan</th>\n",
              "      <th>SinarMatahari</th>\n",
              "      <th>ArahAnginTerkencang</th>\n",
              "      <th>KecepatanAnginTerkencang</th>\n",
              "      <th>ArahAngin9am</th>\n",
              "      <th>ArahAngin3pm</th>\n",
              "      <th>KecepatanAngin9am</th>\n",
              "      <th>KecepatanAngin3pm</th>\n",
              "      <th>Kelembaban9am</th>\n",
              "      <th>Kelembaban3pm</th>\n",
              "      <th>Tekanan9am</th>\n",
              "      <th>Tekanan3pm</th>\n",
              "      <th>Awan9am</th>\n",
              "      <th>Awan3pm</th>\n",
              "      <th>Suhu9am</th>\n",
              "      <th>Suhu3pm</th>\n",
              "      <th>BersaljuHariIni</th>\n",
              "      <th>BersaljuBesok</th>\n",
              "    </tr>\n",
              "  </thead>\n",
              "  <tbody>\n",
              "    <tr>\n",
              "      <th>0</th>\n",
              "      <td>04/11/2010</td>\n",
              "      <td>C39</td>\n",
              "      <td>11.0</td>\n",
              "      <td>27.5</td>\n",
              "      <td>0.0</td>\n",
              "      <td>NaN</td>\n",
              "      <td>6.4</td>\n",
              "      <td>WSW</td>\n",
              "      <td>46.0</td>\n",
              "      <td>W</td>\n",
              "      <td>W</td>\n",
              "      <td>20.0</td>\n",
              "      <td>28.0</td>\n",
              "      <td>39.0</td>\n",
              "      <td>56.0</td>\n",
              "      <td>1013.0</td>\n",
              "      <td>1012.4</td>\n",
              "      <td>4.0</td>\n",
              "      <td>7.0</td>\n",
              "      <td>25.7</td>\n",
              "      <td>23.6</td>\n",
              "      <td>No</td>\n",
              "      <td>No</td>\n",
              "    </tr>\n",
              "    <tr>\n",
              "      <th>1</th>\n",
              "      <td>26/03/2015</td>\n",
              "      <td>C35</td>\n",
              "      <td>10.0</td>\n",
              "      <td>19.9</td>\n",
              "      <td>0.2</td>\n",
              "      <td>NaN</td>\n",
              "      <td>NaN</td>\n",
              "      <td>WNW</td>\n",
              "      <td>56.0</td>\n",
              "      <td>W</td>\n",
              "      <td>NW</td>\n",
              "      <td>24.0</td>\n",
              "      <td>33.0</td>\n",
              "      <td>76.0</td>\n",
              "      <td>32.0</td>\n",
              "      <td>1017.0</td>\n",
              "      <td>1015.2</td>\n",
              "      <td>8.0</td>\n",
              "      <td>1.0</td>\n",
              "      <td>10.7</td>\n",
              "      <td>18.9</td>\n",
              "      <td>No</td>\n",
              "      <td>Yes</td>\n",
              "    </tr>\n",
              "    <tr>\n",
              "      <th>2</th>\n",
              "      <td>22/03/2016</td>\n",
              "      <td>C18</td>\n",
              "      <td>9.2</td>\n",
              "      <td>27.2</td>\n",
              "      <td>0.0</td>\n",
              "      <td>5.2</td>\n",
              "      <td>10.4</td>\n",
              "      <td>SSW</td>\n",
              "      <td>33.0</td>\n",
              "      <td>NE</td>\n",
              "      <td>N</td>\n",
              "      <td>13.0</td>\n",
              "      <td>19.0</td>\n",
              "      <td>89.0</td>\n",
              "      <td>27.0</td>\n",
              "      <td>1018.6</td>\n",
              "      <td>1015.7</td>\n",
              "      <td>0.0</td>\n",
              "      <td>1.0</td>\n",
              "      <td>13.9</td>\n",
              "      <td>26.3</td>\n",
              "      <td>No</td>\n",
              "      <td>No</td>\n",
              "    </tr>\n",
              "    <tr>\n",
              "      <th>3</th>\n",
              "      <td>09/12/2011</td>\n",
              "      <td>C31</td>\n",
              "      <td>17.7</td>\n",
              "      <td>27.0</td>\n",
              "      <td>0.0</td>\n",
              "      <td>4.6</td>\n",
              "      <td>6.7</td>\n",
              "      <td>SW</td>\n",
              "      <td>35.0</td>\n",
              "      <td>E</td>\n",
              "      <td>SSE</td>\n",
              "      <td>20.0</td>\n",
              "      <td>15.0</td>\n",
              "      <td>55.0</td>\n",
              "      <td>41.0</td>\n",
              "      <td>1010.2</td>\n",
              "      <td>1008.6</td>\n",
              "      <td>7.0</td>\n",
              "      <td>6.0</td>\n",
              "      <td>22.3</td>\n",
              "      <td>26.4</td>\n",
              "      <td>No</td>\n",
              "      <td>No</td>\n",
              "    </tr>\n",
              "    <tr>\n",
              "      <th>4</th>\n",
              "      <td>20/05/2017</td>\n",
              "      <td>C14</td>\n",
              "      <td>2.3</td>\n",
              "      <td>7.9</td>\n",
              "      <td>88.0</td>\n",
              "      <td>NaN</td>\n",
              "      <td>NaN</td>\n",
              "      <td>NW</td>\n",
              "      <td>46.0</td>\n",
              "      <td>W</td>\n",
              "      <td>WNW</td>\n",
              "      <td>13.0</td>\n",
              "      <td>9.0</td>\n",
              "      <td>98.0</td>\n",
              "      <td>95.0</td>\n",
              "      <td>NaN</td>\n",
              "      <td>NaN</td>\n",
              "      <td>NaN</td>\n",
              "      <td>NaN</td>\n",
              "      <td>4.4</td>\n",
              "      <td>6.0</td>\n",
              "      <td>Yes</td>\n",
              "      <td>No</td>\n",
              "    </tr>\n",
              "    <tr>\n",
              "      <th>...</th>\n",
              "      <td>...</td>\n",
              "      <td>...</td>\n",
              "      <td>...</td>\n",
              "      <td>...</td>\n",
              "      <td>...</td>\n",
              "      <td>...</td>\n",
              "      <td>...</td>\n",
              "      <td>...</td>\n",
              "      <td>...</td>\n",
              "      <td>...</td>\n",
              "      <td>...</td>\n",
              "      <td>...</td>\n",
              "      <td>...</td>\n",
              "      <td>...</td>\n",
              "      <td>...</td>\n",
              "      <td>...</td>\n",
              "      <td>...</td>\n",
              "      <td>...</td>\n",
              "      <td>...</td>\n",
              "      <td>...</td>\n",
              "      <td>...</td>\n",
              "      <td>...</td>\n",
              "      <td>...</td>\n",
              "    </tr>\n",
              "    <tr>\n",
              "      <th>18177</th>\n",
              "      <td>14/11/2012</td>\n",
              "      <td>C40</td>\n",
              "      <td>7.8</td>\n",
              "      <td>25.8</td>\n",
              "      <td>0.0</td>\n",
              "      <td>8.0</td>\n",
              "      <td>13.2</td>\n",
              "      <td>NE</td>\n",
              "      <td>31.0</td>\n",
              "      <td>ENE</td>\n",
              "      <td>NW</td>\n",
              "      <td>22.0</td>\n",
              "      <td>13.0</td>\n",
              "      <td>59.0</td>\n",
              "      <td>21.0</td>\n",
              "      <td>1017.1</td>\n",
              "      <td>1014.2</td>\n",
              "      <td>6.0</td>\n",
              "      <td>1.0</td>\n",
              "      <td>16.8</td>\n",
              "      <td>24.0</td>\n",
              "      <td>No</td>\n",
              "      <td>No</td>\n",
              "    </tr>\n",
              "    <tr>\n",
              "      <th>18178</th>\n",
              "      <td>24/10/2015</td>\n",
              "      <td>C40</td>\n",
              "      <td>12.4</td>\n",
              "      <td>26.6</td>\n",
              "      <td>0.0</td>\n",
              "      <td>8.0</td>\n",
              "      <td>11.6</td>\n",
              "      <td>NW</td>\n",
              "      <td>37.0</td>\n",
              "      <td>NE</td>\n",
              "      <td>WNW</td>\n",
              "      <td>17.0</td>\n",
              "      <td>20.0</td>\n",
              "      <td>59.0</td>\n",
              "      <td>25.0</td>\n",
              "      <td>1022.2</td>\n",
              "      <td>1018.7</td>\n",
              "      <td>1.0</td>\n",
              "      <td>1.0</td>\n",
              "      <td>17.1</td>\n",
              "      <td>25.7</td>\n",
              "      <td>No</td>\n",
              "      <td>No</td>\n",
              "    </tr>\n",
              "    <tr>\n",
              "      <th>18179</th>\n",
              "      <td>31/08/2010</td>\n",
              "      <td>C21</td>\n",
              "      <td>6.7</td>\n",
              "      <td>22.9</td>\n",
              "      <td>0.0</td>\n",
              "      <td>NaN</td>\n",
              "      <td>NaN</td>\n",
              "      <td>NaN</td>\n",
              "      <td>NaN</td>\n",
              "      <td>NaN</td>\n",
              "      <td>NW</td>\n",
              "      <td>0.0</td>\n",
              "      <td>4.0</td>\n",
              "      <td>84.0</td>\n",
              "      <td>35.0</td>\n",
              "      <td>NaN</td>\n",
              "      <td>NaN</td>\n",
              "      <td>1.0</td>\n",
              "      <td>2.0</td>\n",
              "      <td>11.8</td>\n",
              "      <td>22.0</td>\n",
              "      <td>No</td>\n",
              "      <td>No</td>\n",
              "    </tr>\n",
              "    <tr>\n",
              "      <th>18180</th>\n",
              "      <td>24/08/2013</td>\n",
              "      <td>C12</td>\n",
              "      <td>12.5</td>\n",
              "      <td>26.7</td>\n",
              "      <td>0.0</td>\n",
              "      <td>9.0</td>\n",
              "      <td>10.8</td>\n",
              "      <td>NE</td>\n",
              "      <td>35.0</td>\n",
              "      <td>SW</td>\n",
              "      <td>ENE</td>\n",
              "      <td>2.0</td>\n",
              "      <td>26.0</td>\n",
              "      <td>56.0</td>\n",
              "      <td>45.0</td>\n",
              "      <td>1021.9</td>\n",
              "      <td>1018.1</td>\n",
              "      <td>5.0</td>\n",
              "      <td>5.0</td>\n",
              "      <td>22.9</td>\n",
              "      <td>25.4</td>\n",
              "      <td>No</td>\n",
              "      <td>No</td>\n",
              "    </tr>\n",
              "    <tr>\n",
              "      <th>18181</th>\n",
              "      <td>26/10/2011</td>\n",
              "      <td>C22</td>\n",
              "      <td>12.3</td>\n",
              "      <td>15.9</td>\n",
              "      <td>8.2</td>\n",
              "      <td>NaN</td>\n",
              "      <td>NaN</td>\n",
              "      <td>SE</td>\n",
              "      <td>31.0</td>\n",
              "      <td>SW</td>\n",
              "      <td>SSE</td>\n",
              "      <td>15.0</td>\n",
              "      <td>15.0</td>\n",
              "      <td>87.0</td>\n",
              "      <td>74.0</td>\n",
              "      <td>NaN</td>\n",
              "      <td>NaN</td>\n",
              "      <td>NaN</td>\n",
              "      <td>NaN</td>\n",
              "      <td>13.8</td>\n",
              "      <td>15.4</td>\n",
              "      <td>Yes</td>\n",
              "      <td>Yes</td>\n",
              "    </tr>\n",
              "  </tbody>\n",
              "</table>\n",
              "<p>18182 rows × 23 columns</p>\n",
              "</div>"
            ],
            "text/plain": [
              "          Tanggal KodeLokasi  SuhuMin  ...  Suhu3pm  BersaljuHariIni  BersaljuBesok\n",
              "0      04/11/2010        C39     11.0  ...     23.6               No             No\n",
              "1      26/03/2015        C35     10.0  ...     18.9               No            Yes\n",
              "2      22/03/2016        C18      9.2  ...     26.3               No             No\n",
              "3      09/12/2011        C31     17.7  ...     26.4               No             No\n",
              "4      20/05/2017        C14      2.3  ...      6.0              Yes             No\n",
              "...           ...        ...      ...  ...      ...              ...            ...\n",
              "18177  14/11/2012        C40      7.8  ...     24.0               No             No\n",
              "18178  24/10/2015        C40     12.4  ...     25.7               No             No\n",
              "18179  31/08/2010        C21      6.7  ...     22.0               No             No\n",
              "18180  24/08/2013        C12     12.5  ...     25.4               No             No\n",
              "18181  26/10/2011        C22     12.3  ...     15.4              Yes            Yes\n",
              "\n",
              "[18182 rows x 23 columns]"
            ]
          },
          "metadata": {
            "tags": []
          },
          "execution_count": 5
        }
      ]
    },
    {
      "cell_type": "markdown",
      "metadata": {
        "id": "HukPUEwBPzzF"
      },
      "source": [
        "# Preprocessing"
      ]
    },
    {
      "cell_type": "code",
      "metadata": {
        "id": "gL8xo9W9ij7e"
      },
      "source": [
        "df_train = df_train.replace(['Ya','Tidak'],[1,0])\n",
        "df_test = df_test.replace(['Yes','No'],[1,0])"
      ],
      "execution_count": 6,
      "outputs": []
    },
    {
      "cell_type": "code",
      "metadata": {
        "colab": {
          "base_uri": "https://localhost:8080/",
          "height": 437
        },
        "id": "nF_8RBObltPK",
        "outputId": "c67b9cd6-076e-4af3-8768-646bc07a8f51"
      },
      "source": [
        "df_test"
      ],
      "execution_count": 7,
      "outputs": [
        {
          "output_type": "execute_result",
          "data": {
            "text/html": [
              "<div>\n",
              "<style scoped>\n",
              "    .dataframe tbody tr th:only-of-type {\n",
              "        vertical-align: middle;\n",
              "    }\n",
              "\n",
              "    .dataframe tbody tr th {\n",
              "        vertical-align: top;\n",
              "    }\n",
              "\n",
              "    .dataframe thead th {\n",
              "        text-align: right;\n",
              "    }\n",
              "</style>\n",
              "<table border=\"1\" class=\"dataframe\">\n",
              "  <thead>\n",
              "    <tr style=\"text-align: right;\">\n",
              "      <th></th>\n",
              "      <th>Tanggal</th>\n",
              "      <th>KodeLokasi</th>\n",
              "      <th>SuhuMin</th>\n",
              "      <th>SuhuMax</th>\n",
              "      <th>Hujan</th>\n",
              "      <th>Penguapan</th>\n",
              "      <th>SinarMatahari</th>\n",
              "      <th>ArahAnginTerkencang</th>\n",
              "      <th>KecepatanAnginTerkencang</th>\n",
              "      <th>ArahAngin9am</th>\n",
              "      <th>ArahAngin3pm</th>\n",
              "      <th>KecepatanAngin9am</th>\n",
              "      <th>KecepatanAngin3pm</th>\n",
              "      <th>Kelembaban9am</th>\n",
              "      <th>Kelembaban3pm</th>\n",
              "      <th>Tekanan9am</th>\n",
              "      <th>Tekanan3pm</th>\n",
              "      <th>Awan9am</th>\n",
              "      <th>Awan3pm</th>\n",
              "      <th>Suhu9am</th>\n",
              "      <th>Suhu3pm</th>\n",
              "      <th>BersaljuHariIni</th>\n",
              "      <th>BersaljuBesok</th>\n",
              "    </tr>\n",
              "  </thead>\n",
              "  <tbody>\n",
              "    <tr>\n",
              "      <th>0</th>\n",
              "      <td>04/11/2010</td>\n",
              "      <td>C39</td>\n",
              "      <td>11.0</td>\n",
              "      <td>27.5</td>\n",
              "      <td>0.0</td>\n",
              "      <td>NaN</td>\n",
              "      <td>6.4</td>\n",
              "      <td>WSW</td>\n",
              "      <td>46.0</td>\n",
              "      <td>W</td>\n",
              "      <td>W</td>\n",
              "      <td>20.0</td>\n",
              "      <td>28.0</td>\n",
              "      <td>39.0</td>\n",
              "      <td>56.0</td>\n",
              "      <td>1013.0</td>\n",
              "      <td>1012.4</td>\n",
              "      <td>4.0</td>\n",
              "      <td>7.0</td>\n",
              "      <td>25.7</td>\n",
              "      <td>23.6</td>\n",
              "      <td>0.0</td>\n",
              "      <td>0.0</td>\n",
              "    </tr>\n",
              "    <tr>\n",
              "      <th>1</th>\n",
              "      <td>26/03/2015</td>\n",
              "      <td>C35</td>\n",
              "      <td>10.0</td>\n",
              "      <td>19.9</td>\n",
              "      <td>0.2</td>\n",
              "      <td>NaN</td>\n",
              "      <td>NaN</td>\n",
              "      <td>WNW</td>\n",
              "      <td>56.0</td>\n",
              "      <td>W</td>\n",
              "      <td>NW</td>\n",
              "      <td>24.0</td>\n",
              "      <td>33.0</td>\n",
              "      <td>76.0</td>\n",
              "      <td>32.0</td>\n",
              "      <td>1017.0</td>\n",
              "      <td>1015.2</td>\n",
              "      <td>8.0</td>\n",
              "      <td>1.0</td>\n",
              "      <td>10.7</td>\n",
              "      <td>18.9</td>\n",
              "      <td>0.0</td>\n",
              "      <td>1.0</td>\n",
              "    </tr>\n",
              "    <tr>\n",
              "      <th>2</th>\n",
              "      <td>22/03/2016</td>\n",
              "      <td>C18</td>\n",
              "      <td>9.2</td>\n",
              "      <td>27.2</td>\n",
              "      <td>0.0</td>\n",
              "      <td>5.2</td>\n",
              "      <td>10.4</td>\n",
              "      <td>SSW</td>\n",
              "      <td>33.0</td>\n",
              "      <td>NE</td>\n",
              "      <td>N</td>\n",
              "      <td>13.0</td>\n",
              "      <td>19.0</td>\n",
              "      <td>89.0</td>\n",
              "      <td>27.0</td>\n",
              "      <td>1018.6</td>\n",
              "      <td>1015.7</td>\n",
              "      <td>0.0</td>\n",
              "      <td>1.0</td>\n",
              "      <td>13.9</td>\n",
              "      <td>26.3</td>\n",
              "      <td>0.0</td>\n",
              "      <td>0.0</td>\n",
              "    </tr>\n",
              "    <tr>\n",
              "      <th>3</th>\n",
              "      <td>09/12/2011</td>\n",
              "      <td>C31</td>\n",
              "      <td>17.7</td>\n",
              "      <td>27.0</td>\n",
              "      <td>0.0</td>\n",
              "      <td>4.6</td>\n",
              "      <td>6.7</td>\n",
              "      <td>SW</td>\n",
              "      <td>35.0</td>\n",
              "      <td>E</td>\n",
              "      <td>SSE</td>\n",
              "      <td>20.0</td>\n",
              "      <td>15.0</td>\n",
              "      <td>55.0</td>\n",
              "      <td>41.0</td>\n",
              "      <td>1010.2</td>\n",
              "      <td>1008.6</td>\n",
              "      <td>7.0</td>\n",
              "      <td>6.0</td>\n",
              "      <td>22.3</td>\n",
              "      <td>26.4</td>\n",
              "      <td>0.0</td>\n",
              "      <td>0.0</td>\n",
              "    </tr>\n",
              "    <tr>\n",
              "      <th>4</th>\n",
              "      <td>20/05/2017</td>\n",
              "      <td>C14</td>\n",
              "      <td>2.3</td>\n",
              "      <td>7.9</td>\n",
              "      <td>88.0</td>\n",
              "      <td>NaN</td>\n",
              "      <td>NaN</td>\n",
              "      <td>NW</td>\n",
              "      <td>46.0</td>\n",
              "      <td>W</td>\n",
              "      <td>WNW</td>\n",
              "      <td>13.0</td>\n",
              "      <td>9.0</td>\n",
              "      <td>98.0</td>\n",
              "      <td>95.0</td>\n",
              "      <td>NaN</td>\n",
              "      <td>NaN</td>\n",
              "      <td>NaN</td>\n",
              "      <td>NaN</td>\n",
              "      <td>4.4</td>\n",
              "      <td>6.0</td>\n",
              "      <td>1.0</td>\n",
              "      <td>0.0</td>\n",
              "    </tr>\n",
              "    <tr>\n",
              "      <th>...</th>\n",
              "      <td>...</td>\n",
              "      <td>...</td>\n",
              "      <td>...</td>\n",
              "      <td>...</td>\n",
              "      <td>...</td>\n",
              "      <td>...</td>\n",
              "      <td>...</td>\n",
              "      <td>...</td>\n",
              "      <td>...</td>\n",
              "      <td>...</td>\n",
              "      <td>...</td>\n",
              "      <td>...</td>\n",
              "      <td>...</td>\n",
              "      <td>...</td>\n",
              "      <td>...</td>\n",
              "      <td>...</td>\n",
              "      <td>...</td>\n",
              "      <td>...</td>\n",
              "      <td>...</td>\n",
              "      <td>...</td>\n",
              "      <td>...</td>\n",
              "      <td>...</td>\n",
              "      <td>...</td>\n",
              "    </tr>\n",
              "    <tr>\n",
              "      <th>18177</th>\n",
              "      <td>14/11/2012</td>\n",
              "      <td>C40</td>\n",
              "      <td>7.8</td>\n",
              "      <td>25.8</td>\n",
              "      <td>0.0</td>\n",
              "      <td>8.0</td>\n",
              "      <td>13.2</td>\n",
              "      <td>NE</td>\n",
              "      <td>31.0</td>\n",
              "      <td>ENE</td>\n",
              "      <td>NW</td>\n",
              "      <td>22.0</td>\n",
              "      <td>13.0</td>\n",
              "      <td>59.0</td>\n",
              "      <td>21.0</td>\n",
              "      <td>1017.1</td>\n",
              "      <td>1014.2</td>\n",
              "      <td>6.0</td>\n",
              "      <td>1.0</td>\n",
              "      <td>16.8</td>\n",
              "      <td>24.0</td>\n",
              "      <td>0.0</td>\n",
              "      <td>0.0</td>\n",
              "    </tr>\n",
              "    <tr>\n",
              "      <th>18178</th>\n",
              "      <td>24/10/2015</td>\n",
              "      <td>C40</td>\n",
              "      <td>12.4</td>\n",
              "      <td>26.6</td>\n",
              "      <td>0.0</td>\n",
              "      <td>8.0</td>\n",
              "      <td>11.6</td>\n",
              "      <td>NW</td>\n",
              "      <td>37.0</td>\n",
              "      <td>NE</td>\n",
              "      <td>WNW</td>\n",
              "      <td>17.0</td>\n",
              "      <td>20.0</td>\n",
              "      <td>59.0</td>\n",
              "      <td>25.0</td>\n",
              "      <td>1022.2</td>\n",
              "      <td>1018.7</td>\n",
              "      <td>1.0</td>\n",
              "      <td>1.0</td>\n",
              "      <td>17.1</td>\n",
              "      <td>25.7</td>\n",
              "      <td>0.0</td>\n",
              "      <td>0.0</td>\n",
              "    </tr>\n",
              "    <tr>\n",
              "      <th>18179</th>\n",
              "      <td>31/08/2010</td>\n",
              "      <td>C21</td>\n",
              "      <td>6.7</td>\n",
              "      <td>22.9</td>\n",
              "      <td>0.0</td>\n",
              "      <td>NaN</td>\n",
              "      <td>NaN</td>\n",
              "      <td>NaN</td>\n",
              "      <td>NaN</td>\n",
              "      <td>NaN</td>\n",
              "      <td>NW</td>\n",
              "      <td>0.0</td>\n",
              "      <td>4.0</td>\n",
              "      <td>84.0</td>\n",
              "      <td>35.0</td>\n",
              "      <td>NaN</td>\n",
              "      <td>NaN</td>\n",
              "      <td>1.0</td>\n",
              "      <td>2.0</td>\n",
              "      <td>11.8</td>\n",
              "      <td>22.0</td>\n",
              "      <td>0.0</td>\n",
              "      <td>0.0</td>\n",
              "    </tr>\n",
              "    <tr>\n",
              "      <th>18180</th>\n",
              "      <td>24/08/2013</td>\n",
              "      <td>C12</td>\n",
              "      <td>12.5</td>\n",
              "      <td>26.7</td>\n",
              "      <td>0.0</td>\n",
              "      <td>9.0</td>\n",
              "      <td>10.8</td>\n",
              "      <td>NE</td>\n",
              "      <td>35.0</td>\n",
              "      <td>SW</td>\n",
              "      <td>ENE</td>\n",
              "      <td>2.0</td>\n",
              "      <td>26.0</td>\n",
              "      <td>56.0</td>\n",
              "      <td>45.0</td>\n",
              "      <td>1021.9</td>\n",
              "      <td>1018.1</td>\n",
              "      <td>5.0</td>\n",
              "      <td>5.0</td>\n",
              "      <td>22.9</td>\n",
              "      <td>25.4</td>\n",
              "      <td>0.0</td>\n",
              "      <td>0.0</td>\n",
              "    </tr>\n",
              "    <tr>\n",
              "      <th>18181</th>\n",
              "      <td>26/10/2011</td>\n",
              "      <td>C22</td>\n",
              "      <td>12.3</td>\n",
              "      <td>15.9</td>\n",
              "      <td>8.2</td>\n",
              "      <td>NaN</td>\n",
              "      <td>NaN</td>\n",
              "      <td>SE</td>\n",
              "      <td>31.0</td>\n",
              "      <td>SW</td>\n",
              "      <td>SSE</td>\n",
              "      <td>15.0</td>\n",
              "      <td>15.0</td>\n",
              "      <td>87.0</td>\n",
              "      <td>74.0</td>\n",
              "      <td>NaN</td>\n",
              "      <td>NaN</td>\n",
              "      <td>NaN</td>\n",
              "      <td>NaN</td>\n",
              "      <td>13.8</td>\n",
              "      <td>15.4</td>\n",
              "      <td>1.0</td>\n",
              "      <td>1.0</td>\n",
              "    </tr>\n",
              "  </tbody>\n",
              "</table>\n",
              "<p>18182 rows × 23 columns</p>\n",
              "</div>"
            ],
            "text/plain": [
              "          Tanggal KodeLokasi  SuhuMin  ...  Suhu3pm  BersaljuHariIni  BersaljuBesok\n",
              "0      04/11/2010        C39     11.0  ...     23.6              0.0            0.0\n",
              "1      26/03/2015        C35     10.0  ...     18.9              0.0            1.0\n",
              "2      22/03/2016        C18      9.2  ...     26.3              0.0            0.0\n",
              "3      09/12/2011        C31     17.7  ...     26.4              0.0            0.0\n",
              "4      20/05/2017        C14      2.3  ...      6.0              1.0            0.0\n",
              "...           ...        ...      ...  ...      ...              ...            ...\n",
              "18177  14/11/2012        C40      7.8  ...     24.0              0.0            0.0\n",
              "18178  24/10/2015        C40     12.4  ...     25.7              0.0            0.0\n",
              "18179  31/08/2010        C21      6.7  ...     22.0              0.0            0.0\n",
              "18180  24/08/2013        C12     12.5  ...     25.4              0.0            0.0\n",
              "18181  26/10/2011        C22     12.3  ...     15.4              1.0            1.0\n",
              "\n",
              "[18182 rows x 23 columns]"
            ]
          },
          "metadata": {
            "tags": []
          },
          "execution_count": 7
        }
      ]
    },
    {
      "cell_type": "code",
      "metadata": {
        "id": "MsFb81j5ouXo"
      },
      "source": [
        "df_train = df_train.drop(['id','Tanggal','KodeLokasi','ArahAnginTerkencang','ArahAngin9am','ArahAngin3pm','BersaljuHariIni'], axis=1)\n",
        "df_test = df_test.drop(['Tanggal','KodeLokasi','ArahAnginTerkencang','ArahAngin9am','ArahAngin3pm','BersaljuHariIni'], axis=1)"
      ],
      "execution_count": 8,
      "outputs": []
    },
    {
      "cell_type": "code",
      "metadata": {
        "id": "2y_Vs75BrtsD"
      },
      "source": [
        "df_train.dropna(inplace=True)\n",
        "df_test.dropna(inplace=True)"
      ],
      "execution_count": 9,
      "outputs": []
    },
    {
      "cell_type": "code",
      "metadata": {
        "colab": {
          "base_uri": "https://localhost:8080/",
          "height": 437
        },
        "id": "lm3KmST9r-Dm",
        "outputId": "9493eceb-89ab-49ed-f924-e364cd9fe785"
      },
      "source": [
        "df_train"
      ],
      "execution_count": 10,
      "outputs": [
        {
          "output_type": "execute_result",
          "data": {
            "text/html": [
              "<div>\n",
              "<style scoped>\n",
              "    .dataframe tbody tr th:only-of-type {\n",
              "        vertical-align: middle;\n",
              "    }\n",
              "\n",
              "    .dataframe tbody tr th {\n",
              "        vertical-align: top;\n",
              "    }\n",
              "\n",
              "    .dataframe thead th {\n",
              "        text-align: right;\n",
              "    }\n",
              "</style>\n",
              "<table border=\"1\" class=\"dataframe\">\n",
              "  <thead>\n",
              "    <tr style=\"text-align: right;\">\n",
              "      <th></th>\n",
              "      <th>SuhuMin</th>\n",
              "      <th>SuhuMax</th>\n",
              "      <th>Hujan</th>\n",
              "      <th>Penguapan</th>\n",
              "      <th>SinarMatahari</th>\n",
              "      <th>KecepatanAnginTerkencang</th>\n",
              "      <th>KecepatanAngin9am</th>\n",
              "      <th>KecepatanAngin3pm</th>\n",
              "      <th>Kelembaban9am</th>\n",
              "      <th>Kelembaban3pm</th>\n",
              "      <th>Tekanan9am</th>\n",
              "      <th>Tekanan3pm</th>\n",
              "      <th>Awan9am</th>\n",
              "      <th>Awan3pm</th>\n",
              "      <th>Suhu9am</th>\n",
              "      <th>Suhu3pm</th>\n",
              "      <th>BersaljuBesok</th>\n",
              "    </tr>\n",
              "  </thead>\n",
              "  <tbody>\n",
              "    <tr>\n",
              "      <th>3</th>\n",
              "      <td>7.3</td>\n",
              "      <td>24.5</td>\n",
              "      <td>0.0</td>\n",
              "      <td>8.4</td>\n",
              "      <td>10.4</td>\n",
              "      <td>54.0</td>\n",
              "      <td>13.0</td>\n",
              "      <td>19.0</td>\n",
              "      <td>25.0</td>\n",
              "      <td>17.0</td>\n",
              "      <td>1019.2</td>\n",
              "      <td>1016.9</td>\n",
              "      <td>1.0</td>\n",
              "      <td>7.0</td>\n",
              "      <td>15.3</td>\n",
              "      <td>23.2</td>\n",
              "      <td>0.0</td>\n",
              "    </tr>\n",
              "    <tr>\n",
              "      <th>4</th>\n",
              "      <td>5.9</td>\n",
              "      <td>20.3</td>\n",
              "      <td>0.0</td>\n",
              "      <td>3.6</td>\n",
              "      <td>12.6</td>\n",
              "      <td>37.0</td>\n",
              "      <td>22.0</td>\n",
              "      <td>19.0</td>\n",
              "      <td>55.0</td>\n",
              "      <td>48.0</td>\n",
              "      <td>1019.7</td>\n",
              "      <td>1014.7</td>\n",
              "      <td>2.0</td>\n",
              "      <td>6.0</td>\n",
              "      <td>12.4</td>\n",
              "      <td>18.1</td>\n",
              "      <td>0.0</td>\n",
              "    </tr>\n",
              "    <tr>\n",
              "      <th>5</th>\n",
              "      <td>14.4</td>\n",
              "      <td>21.8</td>\n",
              "      <td>0.0</td>\n",
              "      <td>3.2</td>\n",
              "      <td>4.4</td>\n",
              "      <td>39.0</td>\n",
              "      <td>19.0</td>\n",
              "      <td>20.0</td>\n",
              "      <td>63.0</td>\n",
              "      <td>52.0</td>\n",
              "      <td>1016.1</td>\n",
              "      <td>1012.5</td>\n",
              "      <td>7.0</td>\n",
              "      <td>7.0</td>\n",
              "      <td>16.7</td>\n",
              "      <td>21.1</td>\n",
              "      <td>0.0</td>\n",
              "    </tr>\n",
              "    <tr>\n",
              "      <th>6</th>\n",
              "      <td>7.7</td>\n",
              "      <td>18.7</td>\n",
              "      <td>0.2</td>\n",
              "      <td>5.6</td>\n",
              "      <td>9.7</td>\n",
              "      <td>46.0</td>\n",
              "      <td>19.0</td>\n",
              "      <td>28.0</td>\n",
              "      <td>69.0</td>\n",
              "      <td>31.0</td>\n",
              "      <td>1011.3</td>\n",
              "      <td>1008.8</td>\n",
              "      <td>1.0</td>\n",
              "      <td>1.0</td>\n",
              "      <td>11.3</td>\n",
              "      <td>18.3</td>\n",
              "      <td>0.0</td>\n",
              "    </tr>\n",
              "    <tr>\n",
              "      <th>8</th>\n",
              "      <td>18.4</td>\n",
              "      <td>35.3</td>\n",
              "      <td>0.0</td>\n",
              "      <td>10.0</td>\n",
              "      <td>12.5</td>\n",
              "      <td>33.0</td>\n",
              "      <td>11.0</td>\n",
              "      <td>13.0</td>\n",
              "      <td>44.0</td>\n",
              "      <td>18.0</td>\n",
              "      <td>1017.9</td>\n",
              "      <td>1013.4</td>\n",
              "      <td>0.0</td>\n",
              "      <td>0.0</td>\n",
              "      <td>23.7</td>\n",
              "      <td>34.9</td>\n",
              "      <td>0.0</td>\n",
              "    </tr>\n",
              "    <tr>\n",
              "      <th>...</th>\n",
              "      <td>...</td>\n",
              "      <td>...</td>\n",
              "      <td>...</td>\n",
              "      <td>...</td>\n",
              "      <td>...</td>\n",
              "      <td>...</td>\n",
              "      <td>...</td>\n",
              "      <td>...</td>\n",
              "      <td>...</td>\n",
              "      <td>...</td>\n",
              "      <td>...</td>\n",
              "      <td>...</td>\n",
              "      <td>...</td>\n",
              "      <td>...</td>\n",
              "      <td>...</td>\n",
              "      <td>...</td>\n",
              "      <td>...</td>\n",
              "    </tr>\n",
              "    <tr>\n",
              "      <th>109080</th>\n",
              "      <td>16.8</td>\n",
              "      <td>34.1</td>\n",
              "      <td>0.0</td>\n",
              "      <td>12.8</td>\n",
              "      <td>10.3</td>\n",
              "      <td>85.0</td>\n",
              "      <td>30.0</td>\n",
              "      <td>37.0</td>\n",
              "      <td>48.0</td>\n",
              "      <td>28.0</td>\n",
              "      <td>1013.4</td>\n",
              "      <td>1009.2</td>\n",
              "      <td>1.0</td>\n",
              "      <td>4.0</td>\n",
              "      <td>25.6</td>\n",
              "      <td>33.0</td>\n",
              "      <td>0.0</td>\n",
              "    </tr>\n",
              "    <tr>\n",
              "      <th>109082</th>\n",
              "      <td>8.7</td>\n",
              "      <td>19.0</td>\n",
              "      <td>0.0</td>\n",
              "      <td>1.4</td>\n",
              "      <td>9.6</td>\n",
              "      <td>24.0</td>\n",
              "      <td>22.0</td>\n",
              "      <td>11.0</td>\n",
              "      <td>81.0</td>\n",
              "      <td>59.0</td>\n",
              "      <td>1024.6</td>\n",
              "      <td>1022.3</td>\n",
              "      <td>2.0</td>\n",
              "      <td>2.0</td>\n",
              "      <td>10.8</td>\n",
              "      <td>16.5</td>\n",
              "      <td>0.0</td>\n",
              "    </tr>\n",
              "    <tr>\n",
              "      <th>109088</th>\n",
              "      <td>14.3</td>\n",
              "      <td>26.2</td>\n",
              "      <td>0.0</td>\n",
              "      <td>8.0</td>\n",
              "      <td>12.6</td>\n",
              "      <td>50.0</td>\n",
              "      <td>13.0</td>\n",
              "      <td>33.0</td>\n",
              "      <td>51.0</td>\n",
              "      <td>37.0</td>\n",
              "      <td>1019.2</td>\n",
              "      <td>1015.6</td>\n",
              "      <td>0.0</td>\n",
              "      <td>2.0</td>\n",
              "      <td>21.1</td>\n",
              "      <td>25.5</td>\n",
              "      <td>0.0</td>\n",
              "    </tr>\n",
              "    <tr>\n",
              "      <th>109090</th>\n",
              "      <td>20.1</td>\n",
              "      <td>23.7</td>\n",
              "      <td>0.0</td>\n",
              "      <td>7.2</td>\n",
              "      <td>8.9</td>\n",
              "      <td>43.0</td>\n",
              "      <td>24.0</td>\n",
              "      <td>26.0</td>\n",
              "      <td>74.0</td>\n",
              "      <td>70.0</td>\n",
              "      <td>1019.3</td>\n",
              "      <td>1017.6</td>\n",
              "      <td>4.0</td>\n",
              "      <td>6.0</td>\n",
              "      <td>22.0</td>\n",
              "      <td>22.1</td>\n",
              "      <td>1.0</td>\n",
              "    </tr>\n",
              "    <tr>\n",
              "      <th>109093</th>\n",
              "      <td>10.8</td>\n",
              "      <td>29.8</td>\n",
              "      <td>0.0</td>\n",
              "      <td>7.8</td>\n",
              "      <td>11.2</td>\n",
              "      <td>48.0</td>\n",
              "      <td>13.0</td>\n",
              "      <td>26.0</td>\n",
              "      <td>35.0</td>\n",
              "      <td>18.0</td>\n",
              "      <td>1020.0</td>\n",
              "      <td>1015.8</td>\n",
              "      <td>0.0</td>\n",
              "      <td>1.0</td>\n",
              "      <td>21.7</td>\n",
              "      <td>29.2</td>\n",
              "      <td>0.0</td>\n",
              "    </tr>\n",
              "  </tbody>\n",
              "</table>\n",
              "<p>43677 rows × 17 columns</p>\n",
              "</div>"
            ],
            "text/plain": [
              "        SuhuMin  SuhuMax  Hujan  ...  Suhu9am  Suhu3pm  BersaljuBesok\n",
              "3           7.3     24.5    0.0  ...     15.3     23.2            0.0\n",
              "4           5.9     20.3    0.0  ...     12.4     18.1            0.0\n",
              "5          14.4     21.8    0.0  ...     16.7     21.1            0.0\n",
              "6           7.7     18.7    0.2  ...     11.3     18.3            0.0\n",
              "8          18.4     35.3    0.0  ...     23.7     34.9            0.0\n",
              "...         ...      ...    ...  ...      ...      ...            ...\n",
              "109080     16.8     34.1    0.0  ...     25.6     33.0            0.0\n",
              "109082      8.7     19.0    0.0  ...     10.8     16.5            0.0\n",
              "109088     14.3     26.2    0.0  ...     21.1     25.5            0.0\n",
              "109090     20.1     23.7    0.0  ...     22.0     22.1            1.0\n",
              "109093     10.8     29.8    0.0  ...     21.7     29.2            0.0\n",
              "\n",
              "[43677 rows x 17 columns]"
            ]
          },
          "metadata": {
            "tags": []
          },
          "execution_count": 10
        }
      ]
    },
    {
      "cell_type": "code",
      "metadata": {
        "colab": {
          "base_uri": "https://localhost:8080/",
          "height": 437
        },
        "id": "1wdbARwqsK1s",
        "outputId": "2e63aa9f-ecaa-42b6-c73f-5406e7a1d004"
      },
      "source": [
        "df_test"
      ],
      "execution_count": 11,
      "outputs": [
        {
          "output_type": "execute_result",
          "data": {
            "text/html": [
              "<div>\n",
              "<style scoped>\n",
              "    .dataframe tbody tr th:only-of-type {\n",
              "        vertical-align: middle;\n",
              "    }\n",
              "\n",
              "    .dataframe tbody tr th {\n",
              "        vertical-align: top;\n",
              "    }\n",
              "\n",
              "    .dataframe thead th {\n",
              "        text-align: right;\n",
              "    }\n",
              "</style>\n",
              "<table border=\"1\" class=\"dataframe\">\n",
              "  <thead>\n",
              "    <tr style=\"text-align: right;\">\n",
              "      <th></th>\n",
              "      <th>SuhuMin</th>\n",
              "      <th>SuhuMax</th>\n",
              "      <th>Hujan</th>\n",
              "      <th>Penguapan</th>\n",
              "      <th>SinarMatahari</th>\n",
              "      <th>KecepatanAnginTerkencang</th>\n",
              "      <th>KecepatanAngin9am</th>\n",
              "      <th>KecepatanAngin3pm</th>\n",
              "      <th>Kelembaban9am</th>\n",
              "      <th>Kelembaban3pm</th>\n",
              "      <th>Tekanan9am</th>\n",
              "      <th>Tekanan3pm</th>\n",
              "      <th>Awan9am</th>\n",
              "      <th>Awan3pm</th>\n",
              "      <th>Suhu9am</th>\n",
              "      <th>Suhu3pm</th>\n",
              "      <th>BersaljuBesok</th>\n",
              "    </tr>\n",
              "  </thead>\n",
              "  <tbody>\n",
              "    <tr>\n",
              "      <th>2</th>\n",
              "      <td>9.2</td>\n",
              "      <td>27.2</td>\n",
              "      <td>0.0</td>\n",
              "      <td>5.2</td>\n",
              "      <td>10.4</td>\n",
              "      <td>33.0</td>\n",
              "      <td>13.0</td>\n",
              "      <td>19.0</td>\n",
              "      <td>89.0</td>\n",
              "      <td>27.0</td>\n",
              "      <td>1018.6</td>\n",
              "      <td>1015.7</td>\n",
              "      <td>0.0</td>\n",
              "      <td>1.0</td>\n",
              "      <td>13.9</td>\n",
              "      <td>26.3</td>\n",
              "      <td>0.0</td>\n",
              "    </tr>\n",
              "    <tr>\n",
              "      <th>3</th>\n",
              "      <td>17.7</td>\n",
              "      <td>27.0</td>\n",
              "      <td>0.0</td>\n",
              "      <td>4.6</td>\n",
              "      <td>6.7</td>\n",
              "      <td>35.0</td>\n",
              "      <td>20.0</td>\n",
              "      <td>15.0</td>\n",
              "      <td>55.0</td>\n",
              "      <td>41.0</td>\n",
              "      <td>1010.2</td>\n",
              "      <td>1008.6</td>\n",
              "      <td>7.0</td>\n",
              "      <td>6.0</td>\n",
              "      <td>22.3</td>\n",
              "      <td>26.4</td>\n",
              "      <td>0.0</td>\n",
              "    </tr>\n",
              "    <tr>\n",
              "      <th>7</th>\n",
              "      <td>14.4</td>\n",
              "      <td>22.4</td>\n",
              "      <td>0.0</td>\n",
              "      <td>4.4</td>\n",
              "      <td>3.9</td>\n",
              "      <td>28.0</td>\n",
              "      <td>9.0</td>\n",
              "      <td>11.0</td>\n",
              "      <td>57.0</td>\n",
              "      <td>51.0</td>\n",
              "      <td>1022.6</td>\n",
              "      <td>1020.7</td>\n",
              "      <td>7.0</td>\n",
              "      <td>7.0</td>\n",
              "      <td>18.3</td>\n",
              "      <td>20.9</td>\n",
              "      <td>0.0</td>\n",
              "    </tr>\n",
              "    <tr>\n",
              "      <th>8</th>\n",
              "      <td>20.3</td>\n",
              "      <td>33.7</td>\n",
              "      <td>0.0</td>\n",
              "      <td>11.8</td>\n",
              "      <td>11.1</td>\n",
              "      <td>52.0</td>\n",
              "      <td>20.0</td>\n",
              "      <td>24.0</td>\n",
              "      <td>54.0</td>\n",
              "      <td>33.0</td>\n",
              "      <td>1007.7</td>\n",
              "      <td>1005.6</td>\n",
              "      <td>5.0</td>\n",
              "      <td>5.0</td>\n",
              "      <td>24.6</td>\n",
              "      <td>32.2</td>\n",
              "      <td>0.0</td>\n",
              "    </tr>\n",
              "    <tr>\n",
              "      <th>10</th>\n",
              "      <td>8.1</td>\n",
              "      <td>18.2</td>\n",
              "      <td>0.0</td>\n",
              "      <td>1.6</td>\n",
              "      <td>5.1</td>\n",
              "      <td>31.0</td>\n",
              "      <td>11.0</td>\n",
              "      <td>15.0</td>\n",
              "      <td>94.0</td>\n",
              "      <td>48.0</td>\n",
              "      <td>1027.1</td>\n",
              "      <td>1024.5</td>\n",
              "      <td>7.0</td>\n",
              "      <td>7.0</td>\n",
              "      <td>10.3</td>\n",
              "      <td>17.7</td>\n",
              "      <td>0.0</td>\n",
              "    </tr>\n",
              "    <tr>\n",
              "      <th>...</th>\n",
              "      <td>...</td>\n",
              "      <td>...</td>\n",
              "      <td>...</td>\n",
              "      <td>...</td>\n",
              "      <td>...</td>\n",
              "      <td>...</td>\n",
              "      <td>...</td>\n",
              "      <td>...</td>\n",
              "      <td>...</td>\n",
              "      <td>...</td>\n",
              "      <td>...</td>\n",
              "      <td>...</td>\n",
              "      <td>...</td>\n",
              "      <td>...</td>\n",
              "      <td>...</td>\n",
              "      <td>...</td>\n",
              "      <td>...</td>\n",
              "    </tr>\n",
              "    <tr>\n",
              "      <th>18170</th>\n",
              "      <td>13.4</td>\n",
              "      <td>24.9</td>\n",
              "      <td>0.0</td>\n",
              "      <td>6.2</td>\n",
              "      <td>9.7</td>\n",
              "      <td>31.0</td>\n",
              "      <td>13.0</td>\n",
              "      <td>13.0</td>\n",
              "      <td>59.0</td>\n",
              "      <td>51.0</td>\n",
              "      <td>1024.2</td>\n",
              "      <td>1022.0</td>\n",
              "      <td>7.0</td>\n",
              "      <td>7.0</td>\n",
              "      <td>23.0</td>\n",
              "      <td>23.7</td>\n",
              "      <td>0.0</td>\n",
              "    </tr>\n",
              "    <tr>\n",
              "      <th>18174</th>\n",
              "      <td>14.6</td>\n",
              "      <td>27.8</td>\n",
              "      <td>0.0</td>\n",
              "      <td>6.6</td>\n",
              "      <td>10.1</td>\n",
              "      <td>35.0</td>\n",
              "      <td>13.0</td>\n",
              "      <td>24.0</td>\n",
              "      <td>60.0</td>\n",
              "      <td>56.0</td>\n",
              "      <td>1021.8</td>\n",
              "      <td>1018.6</td>\n",
              "      <td>3.0</td>\n",
              "      <td>2.0</td>\n",
              "      <td>22.8</td>\n",
              "      <td>25.3</td>\n",
              "      <td>0.0</td>\n",
              "    </tr>\n",
              "    <tr>\n",
              "      <th>18177</th>\n",
              "      <td>7.8</td>\n",
              "      <td>25.8</td>\n",
              "      <td>0.0</td>\n",
              "      <td>8.0</td>\n",
              "      <td>13.2</td>\n",
              "      <td>31.0</td>\n",
              "      <td>22.0</td>\n",
              "      <td>13.0</td>\n",
              "      <td>59.0</td>\n",
              "      <td>21.0</td>\n",
              "      <td>1017.1</td>\n",
              "      <td>1014.2</td>\n",
              "      <td>6.0</td>\n",
              "      <td>1.0</td>\n",
              "      <td>16.8</td>\n",
              "      <td>24.0</td>\n",
              "      <td>0.0</td>\n",
              "    </tr>\n",
              "    <tr>\n",
              "      <th>18178</th>\n",
              "      <td>12.4</td>\n",
              "      <td>26.6</td>\n",
              "      <td>0.0</td>\n",
              "      <td>8.0</td>\n",
              "      <td>11.6</td>\n",
              "      <td>37.0</td>\n",
              "      <td>17.0</td>\n",
              "      <td>20.0</td>\n",
              "      <td>59.0</td>\n",
              "      <td>25.0</td>\n",
              "      <td>1022.2</td>\n",
              "      <td>1018.7</td>\n",
              "      <td>1.0</td>\n",
              "      <td>1.0</td>\n",
              "      <td>17.1</td>\n",
              "      <td>25.7</td>\n",
              "      <td>0.0</td>\n",
              "    </tr>\n",
              "    <tr>\n",
              "      <th>18180</th>\n",
              "      <td>12.5</td>\n",
              "      <td>26.7</td>\n",
              "      <td>0.0</td>\n",
              "      <td>9.0</td>\n",
              "      <td>10.8</td>\n",
              "      <td>35.0</td>\n",
              "      <td>2.0</td>\n",
              "      <td>26.0</td>\n",
              "      <td>56.0</td>\n",
              "      <td>45.0</td>\n",
              "      <td>1021.9</td>\n",
              "      <td>1018.1</td>\n",
              "      <td>5.0</td>\n",
              "      <td>5.0</td>\n",
              "      <td>22.9</td>\n",
              "      <td>25.4</td>\n",
              "      <td>0.0</td>\n",
              "    </tr>\n",
              "  </tbody>\n",
              "</table>\n",
              "<p>7225 rows × 17 columns</p>\n",
              "</div>"
            ],
            "text/plain": [
              "       SuhuMin  SuhuMax  Hujan  ...  Suhu9am  Suhu3pm  BersaljuBesok\n",
              "2          9.2     27.2    0.0  ...     13.9     26.3            0.0\n",
              "3         17.7     27.0    0.0  ...     22.3     26.4            0.0\n",
              "7         14.4     22.4    0.0  ...     18.3     20.9            0.0\n",
              "8         20.3     33.7    0.0  ...     24.6     32.2            0.0\n",
              "10         8.1     18.2    0.0  ...     10.3     17.7            0.0\n",
              "...        ...      ...    ...  ...      ...      ...            ...\n",
              "18170     13.4     24.9    0.0  ...     23.0     23.7            0.0\n",
              "18174     14.6     27.8    0.0  ...     22.8     25.3            0.0\n",
              "18177      7.8     25.8    0.0  ...     16.8     24.0            0.0\n",
              "18178     12.4     26.6    0.0  ...     17.1     25.7            0.0\n",
              "18180     12.5     26.7    0.0  ...     22.9     25.4            0.0\n",
              "\n",
              "[7225 rows x 17 columns]"
            ]
          },
          "metadata": {
            "tags": []
          },
          "execution_count": 11
        }
      ]
    },
    {
      "cell_type": "code",
      "metadata": {
        "id": "HvokJ4SozhDv"
      },
      "source": [
        "df_test.to_csv(\"data_salju_test.csv\")"
      ],
      "execution_count": 12,
      "outputs": []
    },
    {
      "cell_type": "code",
      "metadata": {
        "id": "9csI4wwq0Bgs"
      },
      "source": [
        "df_train.to_csv(\"data_salju_train.csv\")"
      ],
      "execution_count": 13,
      "outputs": []
    },
    {
      "cell_type": "code",
      "metadata": {
        "id": "G3heinPwREsx"
      },
      "source": [
        "# df_train = df_train.drop(['SuhuMin', 'KecepatanAngin9am', 'KecepatanAngin3pm', 'Suhu3pm'], axis=1)\n",
        "# df_test = df_test.drop(['SuhuMin', 'KecepatanAngin9am', 'KecepatanAngin3pm', 'Suhu3pm'], axis=1)\n",
        "# df_train = df_train.drop(['SuhuMin', 'SuhuMax', 'SinarMatahari', 'KecepatanAnginTerkencang', 'KecepatanAngin9am', 'Kelembaban9am', 'Kelembaban3pm', 'Suhu3pm'], axis=1)\n",
        "# df_test = df_test.drop(['SuhuMin', 'SuhuMax', 'SinarMatahari', 'KecepatanAnginTerkencang', 'KecepatanAngin9am', 'Kelembaban9am', 'Kelembaban3pm', 'Suhu3pm'], axis=1)"
      ],
      "execution_count": null,
      "outputs": []
    },
    {
      "cell_type": "code",
      "metadata": {
        "id": "AOJIofRdpYxK"
      },
      "source": [
        "# imp_mean = SimpleImputer(missing_values=np.nan, strategy='mean')\n",
        "# imp_mean.fit(df_train)\n",
        "# imp_mean.fit(df_test)\n",
        "# df_train = imp_mean.transform(df_train)\n",
        "# df_test = imp_mean.transform(df_test)"
      ],
      "execution_count": null,
      "outputs": []
    },
    {
      "cell_type": "code",
      "metadata": {
        "id": "KLGRQiOsc9gW"
      },
      "source": [
        "X_train = df_train.iloc[:,:-1]\n",
        "y_train = df_train.BersaljuBesok\n",
        "\n",
        "X_test = df_test.iloc[:,:-1]\n",
        "y_test = df_test.BersaljuBesok"
      ],
      "execution_count": null,
      "outputs": []
    },
    {
      "cell_type": "code",
      "metadata": {
        "id": "HOmtIyHhRQF7"
      },
      "source": [
        "# sns.boxplot(data=X_train)\n",
        "# plt.show()"
      ],
      "execution_count": null,
      "outputs": []
    },
    {
      "cell_type": "code",
      "metadata": {
        "id": "2TplnJxHRrzH"
      },
      "source": [
        "# sns.boxplot(data=X_test)\n",
        "# plt.show()"
      ],
      "execution_count": null,
      "outputs": []
    },
    {
      "cell_type": "code",
      "metadata": {
        "id": "9hP2eIx1Ugjm"
      },
      "source": [
        "# for i in range(len(X_train.columns)-1):\n",
        "#   q1 = X_train.iloc[:, i].quantile(0.25)\n",
        "#   q3 = X_train.iloc[:, i].quantile(0.75)\n",
        "#   iqr = q3 - q1\n",
        "\n",
        "#   lb = q1 - (iqr * 1.5)\n",
        "#   ub = q3 + (iqr * 1.5)\n",
        "#   def apply(x):\n",
        "#     if x > ub:\n",
        "#       return ub\n",
        "#     elif x < lb:\n",
        "#       return lb\n",
        "#     else:\n",
        "#       return x\n",
        "\n",
        "#   X_train.iloc[:, i] = X_train.iloc[:, i].apply(apply)\n",
        "\n",
        "# for i in X_train.columns:\n",
        "#   sns.boxplot(\n",
        "#       data=X_train,\n",
        "#       y=i\n",
        "#   )\n",
        "#   plt.show()"
      ],
      "execution_count": null,
      "outputs": []
    },
    {
      "cell_type": "code",
      "metadata": {
        "colab": {
          "base_uri": "https://localhost:8080/"
        },
        "id": "Wr05oOYaJ20S",
        "outputId": "bd8bada0-3bff-4015-d2b2-567067f769c8"
      },
      "source": [
        "X_test.shape"
      ],
      "execution_count": null,
      "outputs": [
        {
          "output_type": "execute_result",
          "data": {
            "text/plain": [
              "(7225, 16)"
            ]
          },
          "metadata": {
            "tags": []
          },
          "execution_count": 18
        }
      ]
    },
    {
      "cell_type": "code",
      "metadata": {
        "colab": {
          "base_uri": "https://localhost:8080/"
        },
        "id": "aTpBfgOpKA0v",
        "outputId": "8f3f4d39-7104-4443-bcf0-f7e9712e509a"
      },
      "source": [
        "y_test.shape"
      ],
      "execution_count": null,
      "outputs": [
        {
          "output_type": "execute_result",
          "data": {
            "text/plain": [
              "(7225,)"
            ]
          },
          "metadata": {
            "tags": []
          },
          "execution_count": 19
        }
      ]
    },
    {
      "cell_type": "code",
      "metadata": {
        "id": "3tJ-KGXmefR0"
      },
      "source": [
        "scaler = StandardScaler()\n",
        "X_train = scaler.fit_transform(X_train)\n",
        "\n",
        "X_test = scaler.fit_transform(X_test)"
      ],
      "execution_count": null,
      "outputs": []
    },
    {
      "cell_type": "markdown",
      "metadata": {
        "id": "cSBIX5LU0zpA"
      },
      "source": [
        "# New Section"
      ]
    },
    {
      "cell_type": "code",
      "metadata": {
        "colab": {
          "base_uri": "https://localhost:8080/"
        },
        "id": "FtYWx8Z0PTqQ",
        "outputId": "5e12db47-a379-492f-c03a-6b1466bde242"
      },
      "source": [
        "mi = mutual_info_classif(X_train, y_train.ravel(), discrete_features=False, random_state=42)\n",
        "mi"
      ],
      "execution_count": null,
      "outputs": [
        {
          "output_type": "execute_result",
          "data": {
            "text/plain": [
              "array([0.00769771, 0.01283627, 0.05302671, 0.01203011, 0.10655135,\n",
              "       0.03047153, 0.00119568, 0.0059187 , 0.04047509, 0.12580502,\n",
              "       0.03699874, 0.03282637, 0.05938612, 0.0915871 , 0.006932  ,\n",
              "       0.02297584])"
            ]
          },
          "metadata": {
            "tags": []
          },
          "execution_count": 20
        }
      ]
    },
    {
      "cell_type": "code",
      "metadata": {
        "colab": {
          "base_uri": "https://localhost:8080/"
        },
        "id": "2gKwChodQNP5",
        "outputId": "3d3e9622-f92d-4dea-dfed-6d1c94a70b03"
      },
      "source": [
        "mi < 0.05"
      ],
      "execution_count": null,
      "outputs": [
        {
          "output_type": "execute_result",
          "data": {
            "text/plain": [
              "array([ True,  True, False,  True, False,  True,  True,  True,  True,\n",
              "       False,  True,  True, False, False,  True,  True])"
            ]
          },
          "metadata": {
            "tags": []
          },
          "execution_count": 21
        }
      ]
    },
    {
      "cell_type": "code",
      "metadata": {
        "colab": {
          "base_uri": "https://localhost:8080/"
        },
        "id": "17Zq9cbDQq_R",
        "outputId": "eb83259e-19ea-4e62-ca8e-75638f34c86e"
      },
      "source": [
        "0.01 < mi"
      ],
      "execution_count": null,
      "outputs": [
        {
          "output_type": "execute_result",
          "data": {
            "text/plain": [
              "array([False,  True,  True,  True,  True,  True, False, False,  True,\n",
              "        True,  True,  True,  True,  True, False,  True])"
            ]
          },
          "metadata": {
            "tags": []
          },
          "execution_count": 22
        }
      ]
    },
    {
      "cell_type": "markdown",
      "metadata": {
        "id": "GFhCMAOcQm9t"
      },
      "source": [
        "# Modelling dan Evaluation"
      ]
    },
    {
      "cell_type": "code",
      "metadata": {
        "id": "EvSbK5H0zHy0"
      },
      "source": [
        "# X_train_split, X_test_split, y_train_split, y_test_split = train_test_split(X_train, y_train, test_size=0.3, random_state=109)"
      ],
      "execution_count": null,
      "outputs": []
    },
    {
      "cell_type": "markdown",
      "metadata": {
        "id": "F47C9fMK62my"
      },
      "source": [
        "SVM"
      ]
    },
    {
      "cell_type": "code",
      "metadata": {
        "colab": {
          "base_uri": "https://localhost:8080/"
        },
        "id": "0nSW5INKhzNl",
        "outputId": "90dad0b8-4b86-40d8-d054-efced0479818"
      },
      "source": [
        "clf = SVC(kernel='rbf')\n",
        "clf.fit(X_train, y_train)\n",
        "\n",
        "clf.score(X_test, y_test)"
      ],
      "execution_count": null,
      "outputs": [
        {
          "output_type": "execute_result",
          "data": {
            "text/plain": [
              "0.8588235294117647"
            ]
          },
          "metadata": {
            "tags": []
          },
          "execution_count": 25
        }
      ]
    },
    {
      "cell_type": "markdown",
      "metadata": {
        "id": "Ad-J1fzo65nU"
      },
      "source": [
        "DC"
      ]
    },
    {
      "cell_type": "code",
      "metadata": {
        "colab": {
          "base_uri": "https://localhost:8080/"
        },
        "id": "zi4_Urybe_3a",
        "outputId": "42d9f441-067c-4c1b-c3e5-06263e6b0127"
      },
      "source": [
        "dc = DecisionTreeClassifier()\n",
        "dc.fit(X_train, y_train)\n",
        "\n",
        "dc.score(X_test, y_test)"
      ],
      "execution_count": null,
      "outputs": [
        {
          "output_type": "execute_result",
          "data": {
            "text/plain": [
              "0.791280276816609"
            ]
          },
          "metadata": {
            "tags": []
          },
          "execution_count": 26
        }
      ]
    },
    {
      "cell_type": "markdown",
      "metadata": {
        "id": "iQRoGa_J66jG"
      },
      "source": [
        ""
      ]
    },
    {
      "cell_type": "code",
      "metadata": {
        "colab": {
          "base_uri": "https://localhost:8080/"
        },
        "id": "BQ1gHmXBvDfF",
        "outputId": "b61b9d8a-f76b-4c51-def3-21c02484f9e0"
      },
      "source": [
        "clf = tree.DecisionTreeClassifier()\n",
        "score = cross_val_score(clf, X_test, y_test, cv=5)\n",
        "score"
      ],
      "execution_count": null,
      "outputs": [
        {
          "output_type": "execute_result",
          "data": {
            "text/plain": [
              "array([0.783391  , 0.79238754, 0.79031142, 0.77024221, 0.78477509])"
            ]
          },
          "metadata": {
            "tags": []
          },
          "execution_count": 27
        }
      ]
    },
    {
      "cell_type": "markdown",
      "metadata": {
        "id": "1UWLMoV669Ak"
      },
      "source": [
        "kNN"
      ]
    },
    {
      "cell_type": "code",
      "metadata": {
        "colab": {
          "base_uri": "https://localhost:8080/"
        },
        "id": "wCCJWxKZvqDg",
        "outputId": "290260e4-db93-4a4b-981a-a1b8e0a14022"
      },
      "source": [
        "model = KNeighborsClassifier(n_neighbors=3)\n",
        "\n",
        "# Train the model using the training sets\n",
        "model.fit(X_train,y_train)\n",
        "\n",
        "#Predict Output\n",
        "y_pred= model.predict(X_test) \n",
        "print(\"Accuracy:\",metrics.accuracy_score(y_test, y_pred))"
      ],
      "execution_count": null,
      "outputs": [
        {
          "output_type": "stream",
          "text": [
            "Accuracy: 0.84\n"
          ],
          "name": "stdout"
        }
      ]
    },
    {
      "cell_type": "markdown",
      "metadata": {
        "id": "Zhsl9Zum7A34"
      },
      "source": [
        "NB"
      ]
    },
    {
      "cell_type": "code",
      "metadata": {
        "colab": {
          "base_uri": "https://localhost:8080/"
        },
        "id": "p9IRR7BpyxKe",
        "outputId": "6659a85d-6fd2-4b9a-fea7-e09870008e43"
      },
      "source": [
        "gnb = GaussianNB()\n",
        "y_pred = gnb.fit(X_train, y_train).predict(X_test)\n",
        "\n",
        "print(\"Accuracy:\",metrics.accuracy_score(y_test, y_pred))"
      ],
      "execution_count": null,
      "outputs": [
        {
          "output_type": "stream",
          "text": [
            "Accuracy: 0.7983391003460207\n"
          ],
          "name": "stdout"
        }
      ]
    },
    {
      "cell_type": "markdown",
      "metadata": {
        "id": "BEEbycO97KF1"
      },
      "source": [
        "RF"
      ]
    },
    {
      "cell_type": "code",
      "metadata": {
        "colab": {
          "base_uri": "https://localhost:8080/"
        },
        "id": "Ewxdg9Ay3mhw",
        "outputId": "534df231-2ca1-4b3d-88f0-62f06e192f29"
      },
      "source": [
        "from sklearn.metrics import classification_report, confusion_matrix, accuracy_score\n",
        "\n",
        "classifier = RandomForestClassifier(n_estimators=20, random_state=0)\n",
        "classifier.fit(X_train, y_train)\n",
        "y_pred = classifier.predict(X_test)\n",
        "print(confusion_matrix(y_test,y_pred))\n",
        "print(classification_report(y_test,y_pred))\n",
        "print(accuracy_score(y_test, y_pred))"
      ],
      "execution_count": null,
      "outputs": [
        {
          "output_type": "stream",
          "text": [
            "[[5329  260]\n",
            " [ 791  845]]\n",
            "              precision    recall  f1-score   support\n",
            "\n",
            "         0.0       0.87      0.95      0.91      5589\n",
            "         1.0       0.76      0.52      0.62      1636\n",
            "\n",
            "    accuracy                           0.85      7225\n",
            "   macro avg       0.82      0.73      0.76      7225\n",
            "weighted avg       0.85      0.85      0.84      7225\n",
            "\n",
            "0.8545328719723183\n"
          ],
          "name": "stdout"
        }
      ]
    },
    {
      "cell_type": "code",
      "metadata": {
        "colab": {
          "base_uri": "https://localhost:8080/"
        },
        "id": "nueLDOnCi7N0",
        "outputId": "48fadb90-12f8-40bc-8d83-5b35ce951f3c"
      },
      "source": [
        "param_dict = {'C': [10, 100], \n",
        "              'gamma': [ 0.1, 0.01],\n",
        "              'kernel': ['rbf']} \n",
        "\n",
        "grid = GridSearchCV(\n",
        "    SVC(),\n",
        "    param_grid=param_dict,\n",
        "    cv=3,\n",
        "    verbose=3,\n",
        "    n_jobs=-1\n",
        ")\n",
        "grid.fit(X_train, y_train)"
      ],
      "execution_count": null,
      "outputs": [
        {
          "output_type": "stream",
          "text": [
            "Fitting 3 folds for each of 4 candidates, totalling 12 fits\n"
          ],
          "name": "stdout"
        },
        {
          "output_type": "stream",
          "text": [
            "[Parallel(n_jobs=-1)]: Using backend LokyBackend with 2 concurrent workers.\n",
            "[Parallel(n_jobs=-1)]: Done  12 out of  12 | elapsed: 19.0min finished\n"
          ],
          "name": "stderr"
        },
        {
          "output_type": "execute_result",
          "data": {
            "text/plain": [
              "GridSearchCV(cv=3, error_score=nan,\n",
              "             estimator=SVC(C=1.0, break_ties=False, cache_size=200,\n",
              "                           class_weight=None, coef0=0.0,\n",
              "                           decision_function_shape='ovr', degree=3,\n",
              "                           gamma='scale', kernel='rbf', max_iter=-1,\n",
              "                           probability=False, random_state=None, shrinking=True,\n",
              "                           tol=0.001, verbose=False),\n",
              "             iid='deprecated', n_jobs=-1,\n",
              "             param_grid={'C': [10, 100], 'gamma': [0.1, 0.01],\n",
              "                         'kernel': ['rbf']},\n",
              "             pre_dispatch='2*n_jobs', refit=True, return_train_score=False,\n",
              "             scoring=None, verbose=3)"
            ]
          },
          "metadata": {
            "tags": []
          },
          "execution_count": 31
        }
      ]
    },
    {
      "cell_type": "code",
      "metadata": {
        "id": "OE9Z1DXplAgU",
        "colab": {
          "base_uri": "https://localhost:8080/"
        },
        "outputId": "0dedc7a1-a6fe-4def-fc63-6f5eb604e452"
      },
      "source": [
        "grid.best_estimator_"
      ],
      "execution_count": null,
      "outputs": [
        {
          "output_type": "execute_result",
          "data": {
            "text/plain": [
              "SVC(C=10, break_ties=False, cache_size=200, class_weight=None, coef0=0.0,\n",
              "    decision_function_shape='ovr', degree=3, gamma=0.1, kernel='rbf',\n",
              "    max_iter=-1, probability=False, random_state=None, shrinking=True,\n",
              "    tol=0.001, verbose=False)"
            ]
          },
          "metadata": {
            "tags": []
          },
          "execution_count": 32
        }
      ]
    },
    {
      "cell_type": "code",
      "metadata": {
        "id": "zdUKhf9KpbaB",
        "colab": {
          "base_uri": "https://localhost:8080/"
        },
        "outputId": "31f96d27-994c-489d-e05c-adf51fdd0065"
      },
      "source": [
        "t0 = time.time()\n",
        "\n",
        "clf = grid.best_estimator_\n",
        "\n",
        "clf.fit(X_train, y_train)\n",
        "\n",
        "y_pred = clf.predict(X_test)\n",
        "\n",
        "print(f'{metrics.classification_report(y_test, y_pred)}')\n",
        "print(f'Time: {time.time()-t0}')"
      ],
      "execution_count": null,
      "outputs": [
        {
          "output_type": "stream",
          "text": [
            "              precision    recall  f1-score   support\n",
            "\n",
            "         0.0       0.88      0.95      0.91      5589\n",
            "         1.0       0.77      0.54      0.63      1636\n",
            "\n",
            "    accuracy                           0.86      7225\n",
            "   macro avg       0.82      0.75      0.77      7225\n",
            "weighted avg       0.85      0.86      0.85      7225\n",
            "\n",
            "Time: 207.24202275276184\n"
          ],
          "name": "stdout"
        }
      ]
    },
    {
      "cell_type": "code",
      "metadata": {
        "id": "nxHEevWztAN4"
      },
      "source": [
        "# from sklearn.model_selection import GridSearchCV\n",
        "  \n",
        "# # defining parameter range\n",
        "# param_dict = {'C': [1, 10, 100], \n",
        "#               'gamma': [ 0.1, 0.01],\n",
        "#               'kernel': ['rbf','sigmoid','poly','linear']} \n",
        "  \n",
        "# grid = GridSearchCV(SVC(), param_dict, refit = True, verbose = 3)\n",
        "  \n",
        "# # fitting the model for grid search\n",
        "# grid.fit(X_train, y_train)"
      ],
      "execution_count": null,
      "outputs": []
    },
    {
      "cell_type": "markdown",
      "metadata": {
        "id": "fTTVuQWlQp0w"
      },
      "source": [
        "# Experiment"
      ]
    },
    {
      "cell_type": "code",
      "metadata": {
        "id": "0RB9DTXFuU4t",
        "colab": {
          "base_uri": "https://localhost:8080/"
        },
        "outputId": "ace5f4b4-39a0-41b6-a721-9c13c03afaa3"
      },
      "source": [
        "df_train.isnull().sum()"
      ],
      "execution_count": null,
      "outputs": [
        {
          "output_type": "execute_result",
          "data": {
            "text/plain": [
              "SuhuMin                     0\n",
              "SuhuMax                     0\n",
              "Hujan                       0\n",
              "Penguapan                   0\n",
              "SinarMatahari               0\n",
              "KecepatanAnginTerkencang    0\n",
              "KecepatanAngin9am           0\n",
              "KecepatanAngin3pm           0\n",
              "Kelembaban9am               0\n",
              "Kelembaban3pm               0\n",
              "Tekanan9am                  0\n",
              "Tekanan3pm                  0\n",
              "Awan9am                     0\n",
              "Awan3pm                     0\n",
              "Suhu9am                     0\n",
              "Suhu3pm                     0\n",
              "BersaljuBesok               0\n",
              "dtype: int64"
            ]
          },
          "metadata": {
            "tags": []
          },
          "execution_count": 35
        }
      ]
    }
  ]
}